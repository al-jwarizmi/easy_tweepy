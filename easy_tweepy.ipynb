{
 "cells": [
  {
   "cell_type": "markdown",
   "metadata": {},
   "source": [
    "# retrieve tweets"
   ]
  },
  {
   "cell_type": "code",
   "execution_count": 1,
   "metadata": {},
   "outputs": [],
   "source": [
    "import os\n",
    "import tweepy as tw\n",
    "import pandas as pd\n",
    "\n",
    "consumer_key = 'consumer_key'\n",
    "consumer_secret = 'consumer_secret'\n",
    "access_token = 'access_tokem'\n",
    "access_secret= 'access_secret'\n",
    "\n",
    "auth = tw.OAuthHandler(consumer_key, consumer_secret)\n",
    "auth.set_access_token(access_token, access_secret)\n",
    "api = tw.API(auth, wait_on_rate_limit=True)"
   ]
  },
  {
   "cell_type": "code",
   "execution_count": 86,
   "metadata": {},
   "outputs": [],
   "source": [
    "app = [\"@SinDelantalMx\", '@DidifoodMX', '@RappiMexico', '@ubereats_mex']\n",
    "\n",
    "date_since = \"2020-01-01\"\n"
   ]
  },
  {
   "cell_type": "code",
   "execution_count": 87,
   "metadata": {},
   "outputs": [],
   "source": [
    "tweets = []\n",
    "for w in app:\n",
    "    user_name = w\n",
    "\n",
    "    replies = tw.Cursor(api.search, q='to:{} filter:mentions'.format(user_name), tweet_mode='extended').items()\n",
    "\n",
    "    tweets.extend([(w,tweet) for tweet in replies])\n",
    "\n"
   ]
  },
  {
   "cell_type": "code",
   "execution_count": 88,
   "metadata": {},
   "outputs": [],
   "source": [
    "# tweets[0][1]"
   ]
  },
  {
   "cell_type": "code",
   "execution_count": 89,
   "metadata": {},
   "outputs": [],
   "source": [
    "df = pd.DataFrame(columns=['app', 'author','coordinates','created_at','favorite_count','geo','place','retweeted','retweet_count','full_text'])\n",
    "\n",
    "for i in range(len(tweets)):\n",
    "    df.loc[i] = pd.Series({\n",
    "                             'app': tweets[i][0],\n",
    "                             'author' : tweets[i][1].author.screen_name,\n",
    "                             'coordinates' : tweets[i][1].coordinates,\n",
    "                             'created_at' : tweets[i][1].created_at,\n",
    "                             'favorite_count' : tweets[i][1].favorite_count,\n",
    "                             'geo' : tweets[i][1].geo,\n",
    "                             'place' : tweets[i][1].place,\n",
    "                             'retweeted' : tweets[i][1].retweeted,\n",
    "                             'retweet_count' : tweets[i][1].retweet_count,\n",
    "                             'full_text' : tweets[i][1].full_text}\n",
    "                           )\n",
    "\n"
   ]
  },
  {
   "cell_type": "code",
   "execution_count": 90,
   "metadata": {},
   "outputs": [],
   "source": [
    "# df.to_csv('base.csv')"
   ]
  },
  {
   "cell_type": "code",
   "execution_count": 91,
   "metadata": {},
   "outputs": [
    {
     "data": {
      "text/html": [
       "<div>\n",
       "<style scoped>\n",
       "    .dataframe tbody tr th:only-of-type {\n",
       "        vertical-align: middle;\n",
       "    }\n",
       "\n",
       "    .dataframe tbody tr th {\n",
       "        vertical-align: top;\n",
       "    }\n",
       "\n",
       "    .dataframe thead th {\n",
       "        text-align: right;\n",
       "    }\n",
       "</style>\n",
       "<table border=\"1\" class=\"dataframe\">\n",
       "  <thead>\n",
       "    <tr style=\"text-align: right;\">\n",
       "      <th></th>\n",
       "      <th>app</th>\n",
       "      <th>author</th>\n",
       "      <th>coordinates</th>\n",
       "      <th>created_at</th>\n",
       "      <th>favorite_count</th>\n",
       "      <th>geo</th>\n",
       "      <th>place</th>\n",
       "      <th>retweeted</th>\n",
       "      <th>retweet_count</th>\n",
       "      <th>full_text</th>\n",
       "    </tr>\n",
       "  </thead>\n",
       "  <tbody>\n",
       "    <tr>\n",
       "      <th>0</th>\n",
       "      <td>@SinDelantalMx</td>\n",
       "      <td>SinDelantalMx</td>\n",
       "      <td>None</td>\n",
       "      <td>2020-07-16 23:49:27</td>\n",
       "      <td>0</td>\n",
       "      <td>None</td>\n",
       "      <td>None</td>\n",
       "      <td>False</td>\n",
       "      <td>0</td>\n",
       "      <td>@DrAaronMx Comen de a poquito... según. 😂</td>\n",
       "    </tr>\n",
       "    <tr>\n",
       "      <th>1</th>\n",
       "      <td>@SinDelantalMx</td>\n",
       "      <td>SinDelantalMx</td>\n",
       "      <td>None</td>\n",
       "      <td>2020-07-16 23:47:44</td>\n",
       "      <td>1</td>\n",
       "      <td>None</td>\n",
       "      <td>None</td>\n",
       "      <td>False</td>\n",
       "      <td>0</td>\n",
       "      <td>@Fl4k4ch1 Eso son ligas mayores... https://t.c...</td>\n",
       "    </tr>\n",
       "    <tr>\n",
       "      <th>2</th>\n",
       "      <td>@SinDelantalMx</td>\n",
       "      <td>SinDelantalMx</td>\n",
       "      <td>None</td>\n",
       "      <td>2020-07-16 19:30:03</td>\n",
       "      <td>2</td>\n",
       "      <td>None</td>\n",
       "      <td>None</td>\n",
       "      <td>False</td>\n",
       "      <td>0</td>\n",
       "      <td>@txxnvger @GarzonJacque ¡¿20?! \\n\\nBueno, es q...</td>\n",
       "    </tr>\n",
       "    <tr>\n",
       "      <th>3</th>\n",
       "      <td>@SinDelantalMx</td>\n",
       "      <td>SinDelantalMx</td>\n",
       "      <td>None</td>\n",
       "      <td>2020-07-15 15:10:49</td>\n",
       "      <td>0</td>\n",
       "      <td>None</td>\n",
       "      <td>None</td>\n",
       "      <td>False</td>\n",
       "      <td>0</td>\n",
       "      <td>@lexCari @pobrecitobebe https://t.co/PFv1HvxOve</td>\n",
       "    </tr>\n",
       "    <tr>\n",
       "      <th>4</th>\n",
       "      <td>@SinDelantalMx</td>\n",
       "      <td>SinDelantalMx</td>\n",
       "      <td>None</td>\n",
       "      <td>2020-07-15 15:09:25</td>\n",
       "      <td>0</td>\n",
       "      <td>None</td>\n",
       "      <td>None</td>\n",
       "      <td>False</td>\n",
       "      <td>0</td>\n",
       "      <td>@iGeophysicist Gracias por compartir. 👀</td>\n",
       "    </tr>\n",
       "    <tr>\n",
       "      <th>...</th>\n",
       "      <td>...</td>\n",
       "      <td>...</td>\n",
       "      <td>...</td>\n",
       "      <td>...</td>\n",
       "      <td>...</td>\n",
       "      <td>...</td>\n",
       "      <td>...</td>\n",
       "      <td>...</td>\n",
       "      <td>...</td>\n",
       "      <td>...</td>\n",
       "    </tr>\n",
       "    <tr>\n",
       "      <th>551</th>\n",
       "      <td>@RappiMexico</td>\n",
       "      <td>RappiMexico</td>\n",
       "      <td>None</td>\n",
       "      <td>2020-07-09 13:03:42</td>\n",
       "      <td>0</td>\n",
       "      <td>None</td>\n",
       "      <td>None</td>\n",
       "      <td>False</td>\n",
       "      <td>0</td>\n",
       "      <td>@ElizabethHPG ¡Hola Elizabeth! Lamentamos los ...</td>\n",
       "    </tr>\n",
       "    <tr>\n",
       "      <th>552</th>\n",
       "      <td>@RappiMexico</td>\n",
       "      <td>RappiMexico</td>\n",
       "      <td>None</td>\n",
       "      <td>2020-07-09 12:06:18</td>\n",
       "      <td>0</td>\n",
       "      <td>None</td>\n",
       "      <td>None</td>\n",
       "      <td>False</td>\n",
       "      <td>0</td>\n",
       "      <td>@JuanCaLima ¡Hola! Por favor revisa tu DM. 📲</td>\n",
       "    </tr>\n",
       "    <tr>\n",
       "      <th>553</th>\n",
       "      <td>@RappiMexico</td>\n",
       "      <td>RappiMexico</td>\n",
       "      <td>None</td>\n",
       "      <td>2020-07-09 12:03:47</td>\n",
       "      <td>0</td>\n",
       "      <td>None</td>\n",
       "      <td>None</td>\n",
       "      <td>False</td>\n",
       "      <td>0</td>\n",
       "      <td>@Jerry85 ¡Hola Gerardo!🖐🏼 Cuéntanos ¿en qué po...</td>\n",
       "    </tr>\n",
       "    <tr>\n",
       "      <th>554</th>\n",
       "      <td>@RappiMexico</td>\n",
       "      <td>RappiMexico</td>\n",
       "      <td>None</td>\n",
       "      <td>2020-07-09 01:58:38</td>\n",
       "      <td>0</td>\n",
       "      <td>None</td>\n",
       "      <td>None</td>\n",
       "      <td>False</td>\n",
       "      <td>0</td>\n",
       "      <td>@MarieMondrieu ¡Hola, Marie! Entendemos tu pre...</td>\n",
       "    </tr>\n",
       "    <tr>\n",
       "      <th>555</th>\n",
       "      <td>@RappiMexico</td>\n",
       "      <td>RappiMexico</td>\n",
       "      <td>None</td>\n",
       "      <td>2020-07-09 01:57:17</td>\n",
       "      <td>0</td>\n",
       "      <td>None</td>\n",
       "      <td>None</td>\n",
       "      <td>False</td>\n",
       "      <td>0</td>\n",
       "      <td>@maymedinaaa ¡Hola, May! Entendemos tu preocup...</td>\n",
       "    </tr>\n",
       "  </tbody>\n",
       "</table>\n",
       "<p>556 rows × 10 columns</p>\n",
       "</div>"
      ],
      "text/plain": [
       "                app         author coordinates          created_at  \\\n",
       "0    @SinDelantalMx  SinDelantalMx        None 2020-07-16 23:49:27   \n",
       "1    @SinDelantalMx  SinDelantalMx        None 2020-07-16 23:47:44   \n",
       "2    @SinDelantalMx  SinDelantalMx        None 2020-07-16 19:30:03   \n",
       "3    @SinDelantalMx  SinDelantalMx        None 2020-07-15 15:10:49   \n",
       "4    @SinDelantalMx  SinDelantalMx        None 2020-07-15 15:09:25   \n",
       "..              ...            ...         ...                 ...   \n",
       "551    @RappiMexico    RappiMexico        None 2020-07-09 13:03:42   \n",
       "552    @RappiMexico    RappiMexico        None 2020-07-09 12:06:18   \n",
       "553    @RappiMexico    RappiMexico        None 2020-07-09 12:03:47   \n",
       "554    @RappiMexico    RappiMexico        None 2020-07-09 01:58:38   \n",
       "555    @RappiMexico    RappiMexico        None 2020-07-09 01:57:17   \n",
       "\n",
       "    favorite_count   geo place retweeted retweet_count  \\\n",
       "0                0  None  None     False             0   \n",
       "1                1  None  None     False             0   \n",
       "2                2  None  None     False             0   \n",
       "3                0  None  None     False             0   \n",
       "4                0  None  None     False             0   \n",
       "..             ...   ...   ...       ...           ...   \n",
       "551              0  None  None     False             0   \n",
       "552              0  None  None     False             0   \n",
       "553              0  None  None     False             0   \n",
       "554              0  None  None     False             0   \n",
       "555              0  None  None     False             0   \n",
       "\n",
       "                                             full_text  \n",
       "0            @DrAaronMx Comen de a poquito... según. 😂  \n",
       "1    @Fl4k4ch1 Eso son ligas mayores... https://t.c...  \n",
       "2    @txxnvger @GarzonJacque ¡¿20?! \\n\\nBueno, es q...  \n",
       "3      @lexCari @pobrecitobebe https://t.co/PFv1HvxOve  \n",
       "4              @iGeophysicist Gracias por compartir. 👀  \n",
       "..                                                 ...  \n",
       "551  @ElizabethHPG ¡Hola Elizabeth! Lamentamos los ...  \n",
       "552       @JuanCaLima ¡Hola! Por favor revisa tu DM. 📲  \n",
       "553  @Jerry85 ¡Hola Gerardo!🖐🏼 Cuéntanos ¿en qué po...  \n",
       "554  @MarieMondrieu ¡Hola, Marie! Entendemos tu pre...  \n",
       "555  @maymedinaaa ¡Hola, May! Entendemos tu preocup...  \n",
       "\n",
       "[556 rows x 10 columns]"
      ]
     },
     "execution_count": 91,
     "metadata": {},
     "output_type": "execute_result"
    }
   ],
   "source": [
    "df"
   ]
  },
  {
   "cell_type": "markdown",
   "metadata": {},
   "source": [
    "# classify sentiment"
   ]
  },
  {
   "cell_type": "code",
   "execution_count": 92,
   "metadata": {},
   "outputs": [],
   "source": [
    "from classifier import *\n",
    "clf = SentimentClassifier()"
   ]
  },
  {
   "cell_type": "code",
   "execution_count": 93,
   "metadata": {},
   "outputs": [],
   "source": [
    "df['sentiment_score'] = df.full_text.apply(lambda x: clf.predict(x))"
   ]
  },
  {
   "cell_type": "code",
   "execution_count": 94,
   "metadata": {},
   "outputs": [
    {
     "data": {
      "text/plain": [
       "'2020-07-16'"
      ]
     },
     "execution_count": 94,
     "metadata": {},
     "output_type": "execute_result"
    }
   ],
   "source": [
    "str(df['created_at'][0].date())"
   ]
  },
  {
   "cell_type": "code",
   "execution_count": 95,
   "metadata": {},
   "outputs": [
    {
     "name": "stdout",
     "output_type": "stream",
     "text": [
      "@lexCari @pobrecitobebe https://t.co/PFv1HvxOve\n"
     ]
    }
   ],
   "source": [
    "print(tweets[3][1].full_text)"
   ]
  },
  {
   "cell_type": "code",
   "execution_count": 96,
   "metadata": {},
   "outputs": [
    {
     "data": {
      "text/plain": [
       "count       0\n",
       "unique      0\n",
       "top       NaN\n",
       "freq      NaN\n",
       "Name: geo, dtype: object"
      ]
     },
     "execution_count": 96,
     "metadata": {},
     "output_type": "execute_result"
    }
   ],
   "source": [
    "df['geo'].describe()\n"
   ]
  },
  {
   "cell_type": "markdown",
   "metadata": {},
   "source": [
    "# quick viz"
   ]
  },
  {
   "cell_type": "code",
   "execution_count": 97,
   "metadata": {},
   "outputs": [
    {
     "data": {
      "text/plain": [
       "<matplotlib.axes._subplots.AxesSubplot at 0x7fcf456436d8>"
      ]
     },
     "execution_count": 97,
     "metadata": {},
     "output_type": "execute_result"
    },
    {
     "data": {
      "image/png": "[encoded data removed]",
      "text/plain": [
       "<Figure size 432x288 with 1 Axes>"
      ]
     },
     "metadata": {
      "needs_background": "light"
     },
     "output_type": "display_data"
    }
   ],
   "source": [
    "df.app.value_counts().plot.bar(rot=45)"
   ]
  },
  {
   "cell_type": "code",
   "execution_count": 98,
   "metadata": {},
   "outputs": [],
   "source": [
    "df['date'] = df.created_at.apply(lambda x: str(x.date()))"
   ]
  },
  {
   "cell_type": "code",
   "execution_count": 99,
   "metadata": {},
   "outputs": [
    {
     "data": {
      "text/plain": [
       "<matplotlib.axes._subplots.AxesSubplot at 0x7fcf452027f0>"
      ]
     },
     "execution_count": 99,
     "metadata": {},
     "output_type": "execute_result"
    },
    {
     "data": {
      "image/png": "[encoded data removed]",
      "text/plain": [
       "<Figure size 432x288 with 1 Axes>"
      ]
     },
     "metadata": {
      "needs_background": "light"
     },
     "output_type": "display_data"
    }
   ],
   "source": [
    "df[['date','app','sentiment_score']]\\\n",
    "    .groupby([df.date, df.app])\\\n",
    "    .mean().unstack('app', fill_value=0)\\\n",
    "    .plot(rot=45)"
   ]
  },
  {
   "cell_type": "code",
   "execution_count": 100,
   "metadata": {},
   "outputs": [],
   "source": [
    "df['is_positive'] = df.sentiment_score.apply(lambda x: x > 0.5)\n",
    "df['is_negative'] = df.sentiment_score.apply(lambda x: x <= 0.5)\n",
    "df['flag'] = df.sentiment_score.apply(lambda x: 1)"
   ]
  },
  {
   "cell_type": "code",
   "execution_count": 101,
   "metadata": {},
   "outputs": [
    {
     "data": {
      "text/plain": [
       "<matplotlib.axes._subplots.AxesSubplot at 0x7fcf452410f0>"
      ]
     },
     "execution_count": 101,
     "metadata": {},
     "output_type": "execute_result"
    },
    {
     "data": {
      "image/png": "[encoded data removed]",
      "text/plain": [
       "<Figure size 432x288 with 1 Axes>"
      ]
     },
     "metadata": {
      "needs_background": "light"
     },
     "output_type": "display_data"
    }
   ],
   "source": [
    "df.loc[df.is_positive, ['date','app','is_positive']]\\\n",
    "    .groupby([df.date, df.app])\\\n",
    "    .sum().unstack('app', fill_value=0)\\\n",
    "    .plot(rot=45)"
   ]
  },
  {
   "cell_type": "code",
   "execution_count": 102,
   "metadata": {},
   "outputs": [
    {
     "data": {
      "text/plain": [
       "<matplotlib.axes._subplots.AxesSubplot at 0x7fcf402c2940>"
      ]
     },
     "execution_count": 102,
     "metadata": {},
     "output_type": "execute_result"
    },
    {
     "data": {
      "image/png": "[encoded data removed]",
      "text/plain": [
       "<Figure size 432x288 with 1 Axes>"
      ]
     },
     "metadata": {
      "needs_background": "light"
     },
     "output_type": "display_data"
    }
   ],
   "source": [
    "pos = df[['date','app','is_negative','flag']]\\\n",
    "    .groupby([df.date, df.app])\\\n",
    "    .agg({'is_negative': sum, 'flag': sum})\n",
    "\n",
    "pos['perc'] = pos.is_negative / pos.flag\n",
    "\n",
    "pos[['perc']].unstack('app', fill_value=0)\\\n",
    "    .plot(rot=45)"
   ]
  },
  {
   "cell_type": "markdown",
   "metadata": {},
   "source": [
    "# word count"
   ]
  },
  {
   "cell_type": "code",
   "execution_count": null,
   "metadata": {},
   "outputs": [],
   "source": [
    "'mi', 'pedido', 'nunca', 'llego', 'su', 'aplicacion', 'es', 'basura'"
   ]
  },
  {
   "cell_type": "code",
   "execution_count": 103,
   "metadata": {},
   "outputs": [],
   "source": [
    "from nltk.tokenize import word_tokenize, sent_tokenize\n",
    "\n",
    "puncts = [',', '.', '\"', ':', ')', '(', '-','¡', '!', '?', '|', ';', \"'\", '$', '&', '/', '[', ']', '>', '%', '=', '#', '*', '+', '\\\\', '•',  '~', '@', '£', \n",
    " '·', '_', '{', '}', '©', '^', '®', '`',  '<', '→', '°', '€', '™', '›',  '♥', '←', '×', '§', '″', '′', 'Â', '█', '½', 'à', '…', '´',\n",
    " '“', '★', '”', '–', '●', 'â', '►', '−', '¢', '²', '¬', '░', '¶', '↑', '±', '¿', '▾', '═', '¦', '║', '―', '¥', '▓', '—', '‹', '─', \n",
    " '▒', '：', '¼', '⊕', '▼', '▪', '†', '■', '’', '▀', '¨', '▄', '♫', '☆', '¯', '♦', '¤', '▲', 'è', '¸', '¾', 'Ã', '⋅', '‘', '∞', \n",
    " '∙', '）', '↓', '、', '│', '（', '»', '，', '♪', '╩', '╚', '³', '・', '╦', '╣', '╔', '╗', '▬', '❤', 'ï', 'Ø', '¹', '≤', '‡', '√']\n",
    "\n",
    "def clean_text(x):\n",
    "    x = str(x)\n",
    "    for punct in puncts:\n",
    "        if punct == '<' or punct == '>':\n",
    "            x = x.replace(punct, f' ')\n",
    "        if punct in x:\n",
    "            x = x.replace(punct, f' ')\n",
    "            \n",
    "    x = x.replace('\\n', ' ')\n",
    "\n",
    "    x = re.sub(r'\\d+', ' ', x.lower()) # remove digits\n",
    "    x = re.sub(r'\\s\\s+', ' ', x) # remove n-sized space n>1 \n",
    "    \n",
    "    return x\n",
    "\n",
    "import unidecode\n",
    "import string\n",
    "import spacy\n",
    "from spacy.lang.es.stop_words import STOP_WORDS\n",
    "from spacy.lang.es import Spanish\n",
    "\n",
    "# Create our list of punctuation marks\n",
    "punctuations = string.punctuation\n",
    "\n",
    "# Create our list of stopwords\n",
    "nlp = spacy.load('es_core_news_md')\n",
    "aditional_sw = set(['y','o','a','nan','oz','gr','ml',' ','  ', '   ', '    ',\n",
    "                    '     ', '      ','....','paquete','promo','promocion','combo',\n",
    "                    'promociones', 'promoción','exclusiva','persona',\n",
    "                    'descuento', 'desc','oferta', 'rebaja', \n",
    "                    'menu','menú', 'comida','delicioso','deliciosa',\n",
    "                    'rico','rica','especialidad', 'especialidades',\n",
    "                    'favorito','favorita','personal','chica','grande',\n",
    "                    'pequeña','chico','pequeño','individual','compartir',\n",
    "                    'sindelantalmx','https', 'rappimexico', 'mex', \n",
    "                    'didifoodmx', 'ubereats', 'uber', 'rappi', 'didi'\n",
    "                   ])\n",
    "\n",
    "aditional_sw = aditional_sw.union(set([w+'s' for w in aditional_sw]))\n",
    "\n",
    "stop_words = spacy.lang.es.stop_words.STOP_WORDS.union(aditional_sw) \n",
    "\n",
    "# Load tokenizer, tagger, parser, NER and word vectors\n",
    "parser = Spanish()\n",
    "\n",
    "# Creating our tokenizer function\n",
    "def spacy_tokenizer(sentence):    \n",
    "    # Creating our token object, which is used to create documents with linguistic annotations.\n",
    "        \n",
    "\n",
    "    mytokens = sentence.split(' ')\n",
    "\n",
    "#     mytokens = [word.lemma_ for word in mytokens]\n",
    "    \n",
    "    # Removing stop words\n",
    "    mytokens = [word for word in mytokens if word not in stop_words and word not in punctuations and len(word)>2]\n",
    "    \n",
    "    # return preprocessed list of tokens\n",
    "    return (mytokens)\n"
   ]
  },
  {
   "cell_type": "code",
   "execution_count": 104,
   "metadata": {},
   "outputs": [],
   "source": [
    "from collections import Counter\n",
    "\n",
    "def keywords(column = 'tokens',category = None):\n",
    "    if category:\n",
    "        tokens = df_[column][df['app'] == category]\n",
    "    else:\n",
    "        tokens = df_[column]\n",
    "    alltokens = []\n",
    "    #import pdb;pdb.set_trace()\n",
    "    for token_list in tokens:\n",
    "        alltokens.extend(token_list)\n",
    "    counter = Counter(alltokens)\n",
    "    mc = counter.most_common(10)\n",
    "    \n",
    "    for elem in mc:\n",
    "        print(elem[0] + ': ' +str(elem[1]))\n"
   ]
  },
  {
   "cell_type": "code",
   "execution_count": 110,
   "metadata": {},
   "outputs": [
    {
     "name": "stdout",
     "output_type": "stream",
     "text": [
      "CPU times: user 63.2 ms, sys: 0 ns, total: 63.2 ms\n",
      "Wall time: 60.4 ms\n"
     ]
    }
   ],
   "source": [
    "%%time\n",
    "df_ = df\n",
    "\n",
    "df_['tokens'] = df_['full_text'].map(clean_text).apply(spacy_tokenizer)\n"
   ]
  },
  {
   "cell_type": "markdown",
   "metadata": {},
   "source": [
    "### If you want to see frequent words from positive-negative tweets apply the filter below:"
   ]
  },
  {
   "cell_type": "code",
   "execution_count": 111,
   "metadata": {},
   "outputs": [],
   "source": [
    "df_ = df_[df_.is_negative]"
   ]
  },
  {
   "cell_type": "code",
   "execution_count": 112,
   "metadata": {},
   "outputs": [
    {
     "name": "stdout",
     "output_type": "stream",
     "text": [
      "burgerkingmx: 2\n",
      "gemagcc: 2\n",
      "ligas: 1\n",
      "mayores: 1\n",
      "euyanqemzn: 1\n",
      "lexcari: 1\n",
      "pobrecitobebe: 1\n",
      "pfv: 1\n",
      "hvxove: 1\n",
      "entendimos: 1\n"
     ]
    }
   ],
   "source": [
    "keywords(category='@SinDelantalMx')"
   ]
  },
  {
   "cell_type": "code",
   "execution_count": 113,
   "metadata": {},
   "outputs": [
    {
     "name": "stdout",
     "output_type": "stream",
     "text": [
      "puedes: 39\n",
      "hola: 35\n",
      "experiencia: 28\n",
      "detalles: 26\n",
      "ayudarte: 23\n",
      "gusto: 21\n",
      "situación: 15\n",
      "déjanos: 14\n",
      "vuim: 13\n",
      "increíble: 12\n"
     ]
    }
   ],
   "source": [
    "keywords(category='@DidifoodMX')"
   ]
  },
  {
   "cell_type": "code",
   "execution_count": 114,
   "metadata": {},
   "outputs": [
    {
     "name": "stdout",
     "output_type": "stream",
     "text": [
      "hola: 341\n",
      "correo: 248\n",
      "favor: 203\n",
      "asociados: 189\n",
      "teléfono: 178\n",
      "electrónico: 155\n",
      "compártenos: 134\n",
      "número: 131\n",
      "contactaremos: 123\n",
      "ayudarte: 122\n"
     ]
    }
   ],
   "source": [
    "keywords(category='@RappiMexico')"
   ]
  },
  {
   "cell_type": "code",
   "execution_count": 72,
   "metadata": {},
   "outputs": [
    {
     "name": "stdout",
     "output_type": "stream",
     "text": [
      "pedido: 51\n",
      "repartidor: 23\n",
      "servicio: 22\n",
      "necesito: 14\n",
      "cobro: 13\n",
      "hice: 11\n",
      "pague: 11\n",
      "efectivo: 11\n",
      "hola: 10\n",
      "ayuda: 10\n"
     ]
    }
   ],
   "source": [
    "keywords(category='@ubereats_mex')"
   ]
  },
  {
   "cell_type": "markdown",
   "metadata": {},
   "source": [
    "# ToDo"
   ]
  },
  {
   "cell_type": "markdown",
   "metadata": {},
   "source": [
    "1- Verify API limits  \n",
    "2- Consolidate cleaning  \n",
    "3- Find out about coordinates  \n",
    "4- analyze n-gram coocurrence  "
   ]
  },
  {
   "cell_type": "code",
   "execution_count": null,
   "metadata": {},
   "outputs": [],
   "source": []
  }
 ],
 "metadata": {
  "kernelspec": {
   "display_name": "python3_custom",
   "language": "python",
   "name": "python3_custom"
  },
  "language_info": {
   "codemirror_mode": {
    "name": "ipython",
    "version": 3
   },
   "file_extension": ".py",
   "mimetype": "text/x-python",
   "name": "python",
   "nbconvert_exporter": "python",
   "pygments_lexer": "ipython3",
   "version": "3.6.9"
  }
 },
 "nbformat": 4,
 "nbformat_minor": 4
}
